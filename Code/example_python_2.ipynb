{
 "cells": [
  {
   "cell_type": "markdown",
   "metadata": {},
   "source": [
    "## Word frequency changes in congressional records with term frequency–inverse document frequency (TF-IDF) analysis"
   ]
  },
  {
   "cell_type": "code",
   "execution_count": 8,
   "metadata": {},
   "outputs": [],
   "source": [
    "# Load speech data\n",
    "import pandas as pd\n",
    "raw_corpus = pd.read_csv(\"../Data/speech_w_data_example.csv\", encoding = 'latin1')\n",
    "headers = list(raw_corpus)\n",
    "# print(headers)"
   ]
  },
  {
   "cell_type": "code",
   "execution_count": 9,
   "metadata": {},
   "outputs": [],
   "source": [
    "# Select two units from raw corpus for comparison\n",
    "unit1 = raw_corpus.loc[(raw_corpus.party == 'R') & (raw_corpus.chamber == 'H') & (raw_corpus.congress_id == 114), ['speech_id', 'speech']]\n",
    "unit2 = raw_corpus.loc[(raw_corpus.party == 'D') & (raw_corpus.chamber == 'H') & (raw_corpus.congress_id == 114), ['speech_id', 'speech']]\n",
    "# print(list(unit1))"
   ]
  },
  {
   "cell_type": "code",
   "execution_count": 32,
   "metadata": {},
   "outputs": [],
   "source": [
    "# Compute tf-idf of each corpus\n",
    "import nltk\n",
    "from nltk.stem import PorterStemmer\n",
    "import numpy as np\n",
    "from sklearn.feature_extraction.text import TfidfTransformer, TfidfVectorizer\n",
    "subset = unit1[:2]\n",
    "# print(subset['speech'][1])"
   ]
  },
  {
   "cell_type": "code",
   "execution_count": 42,
   "metadata": {},
   "outputs": [
    {
     "name": "stdout",
     "output_type": "stream",
     "text": [
      "('thank', 0.06740037382920998)\n",
      "('you', 0.07193388164570093)\n",
      "('friends', 0.01198898027428349)\n",
      "('colleagues', 0.03370018691460499)\n",
      "('countrymen', 0.016850093457302494)\n",
      "('and', 0.4316032898742056)\n",
      "('especially', 0.016850093457302494)\n",
      "('the', 0.4795592109713396)\n",
      "('people', 0.035966940822850464)\n",
      "('of', 0.3596694082285047)\n"
     ]
    }
   ],
   "source": [
    "vectorizer = TfidfVectorizer()\n",
    "X = vectorizer.fit_transform(subset['speech'])\n",
    "feature_names = vectorizer.get_feature_names()\n",
    "feature_index = X[0, :].nonzero()[1]\n",
    "feature_index = feature_index[:10]\n",
    "# print(feature_names)\n",
    "tfidf_scores = zip(feature_index, [X[0, x] for x in feature_index])\n",
    "for i in [(feature_names[i], s) for (i, s) in tfidf_scores]:\n",
    "    print(i)\n",
    "# print(vectorizer.get_params())"
   ]
  },
  {
   "cell_type": "code",
   "execution_count": null,
   "metadata": {},
   "outputs": [],
   "source": []
  }
 ],
 "metadata": {
  "kernelspec": {
   "display_name": "Python 3",
   "language": "python",
   "name": "python3"
  },
  "language_info": {
   "codemirror_mode": {
    "name": "ipython",
    "version": 3
   },
   "file_extension": ".py",
   "mimetype": "text/x-python",
   "name": "python",
   "nbconvert_exporter": "python",
   "pygments_lexer": "ipython3",
   "version": "3.6.5"
  }
 },
 "nbformat": 4,
 "nbformat_minor": 2
}
