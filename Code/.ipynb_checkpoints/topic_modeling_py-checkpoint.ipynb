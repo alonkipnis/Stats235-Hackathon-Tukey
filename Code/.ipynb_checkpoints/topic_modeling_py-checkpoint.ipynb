{
 "cells": [
  {
   "cell_type": "code",
   "execution_count": 4,
   "metadata": {},
   "outputs": [],
   "source": [
    "import pandas as pd\n",
    "raw_corpus = pd.read_csv(\"~/Downlods/speech_w_data.csv\", encoding = 'latin1')\n",
    "headers = list(raw_corpus)"
   ]
  },
  {
   "cell_type": "code",
   "execution_count": 71,
   "metadata": {},
   "outputs": [],
   "source": [
    "records = raw_corpus.loc[:, ['speech_id', 'speech']]"
   ]
  },
  {
   "cell_type": "code",
   "execution_count": 156,
   "metadata": {},
   "outputs": [],
   "source": [
    "from sklearn.feature_extraction.text import TfidfVectorizer, CountVectorizer\n",
    "\n",
    "no_features = 500 #words\n",
    "\n",
    "# NMF is able to use tf-idf\n",
    "tfidf_vectorizer = TfidfVectorizer(max_df=0.95, min_df=2, max_features=no_features, stop_words='english')\n",
    "tfidf = tfidf_vectorizer.fit_transform(records['speech'])\n",
    "tfidf_feature_names = tfidf_vectorizer.get_feature_names()\n",
    "\n",
    "# LDA can only use raw term counts for LDA because it is a probabilistic graphical model\n",
    "tf_vectorizer = CountVectorizer(max_df=0.95, min_df=2, max_features=no_features, stop_words='english')\n",
    "tf = tf_vectorizer.fit_transform(records['speech'])\n",
    "tf_feature_names = tf_vectorizer.get_feature_names()\n"
   ]
  },
  {
   "cell_type": "code",
   "execution_count": 166,
   "metadata": {},
   "outputs": [
    {
     "data": {
      "text/plain": [
       "500"
      ]
     },
     "execution_count": 166,
     "metadata": {},
     "output_type": "execute_result"
    }
   ],
   "source": [
    "#pd.DataFrame(tf_feature_names).to_csv('../Data/list_of_words.csv')"
   ]
  },
  {
   "cell_type": "code",
   "execution_count": null,
   "metadata": {},
   "outputs": [],
   "source": [
    "def display_topics(df, num_of_top_words = 10):\n",
    "    for t in df.columns[1:] :\n",
    "        words = df.sort_values(by = t, ascending = False)['word']\n",
    "        print('topic {}: '.format(t) +\", \".format(t).join([w for w in words[:num_of_top_words]] ))\n",
    "\n"
   ]
  },
  {
   "cell_type": "code",
   "execution_count": 73,
   "metadata": {},
   "outputs": [],
   "source": [
    "from sklearn.decomposition import NMF, LatentDirichletAllocation\n",
    "no_topics = 75\n",
    "\n",
    "# Run NMF\n",
    "nmf = NMF(n_components=no_topics, random_state=1, alpha=.1, l1_ratio=.5, init='nndsvd').fit(tfidf)\n",
    "\n",
    "# Run LDA\n",
    "lda = LatentDirichletAllocation(n_components=no_topics, max_iter=5, learning_method='online', learning_offset=50.,random_state=0).fit(tf)\n"
   ]
  },
  {
   "cell_type": "code",
   "execution_count": 140,
   "metadata": {
    "scrolled": true
   },
   "outputs": [],
   "source": [
    "dic = {'word' : tfidf_feature_names}\n",
    "for t,l in enumerate(nmf.components_) :\n",
    "    dic.update({ 'T{}'.format(t) : l})\n",
    "\n",
    "word_75topics_NMF =pd.DataFrame(dic)\n",
    "word_75topics_NMF.to_csv('../Data/word_75topics_NMF.csv')\n",
    "\n",
    "dic = {'word' : tf_feature_names}\n",
    "for t,l in enumerate(lda.components_) :\n",
    "    dic.update({ 'T{}'.format(t) : l})\n",
    "\n",
    "word_75topics_LDA = pd.DataFrame(dic)\n",
    "word_75topics_LDA.to_csv('../Data/word_75topics_LDA.csv')"
   ]
  },
  {
   "cell_type": "code",
   "execution_count": 153,
   "metadata": {},
   "outputs": [],
   "source": [
    "from sklearn.decomposition import NMF, LatentDirichletAllocation\n",
    "num_of_topics = 25\n",
    "\n",
    "# Run NMF\n",
    "nmf = NMF(n_components=num_of_topics, random_state=1, alpha=.1, l1_ratio=.5, init='nndsvd').fit(tfidf)\n",
    "\n",
    "# Run LDA\n",
    "lda = LatentDirichletAllocation(n_components=num_of_topics, max_iter=5, learning_method='online', learning_offset=50.,random_state=0).fit(tf)\n",
    "\n",
    "dic = {'word' : tfidf_feature_names}\n",
    "for t,l in enumerate(nmf.components_) :\n",
    "    dic.update({ 'T{}'.format(t) : l})\n",
    "\n",
    "word_topics_NMF =pd.DataFrame(dic)\n",
    "word_topics_NMF.to_csv('../Data/word_{}topics_NMF.csv'.format(num_of_topics))\n",
    "\n",
    "dic = {'word' : tf_feature_names}\n",
    "for t,l in enumerate(lda.components_) :\n",
    "    dic.update({ 'T{}'.format(t) : l})\n",
    "\n",
    "word_topics_LDA = pd.DataFrame(dic)\n",
    "word_topics_LDA.to_csv('../Data/word_{}topics_LDA.csv'.format(num_of_topics))\n",
    "\n",
    "print(\"nmf:\")\n",
    "display_topics(word_topics_NMF, num_of_top_words = 5)\n",
    "\n",
    "print(\"LDA\")\n",
    "display_topics(word_topics_LDA, num_of_top_words = 5)"
   ]
  },
  {
   "cell_type": "code",
   "execution_count": 152,
   "metadata": {},
   "outputs": [
    {
     "name": "stdout",
     "output_type": "stream",
     "text": [
      "nmf:\n",
      "topic T0: going, people, think, dont, want, know, just, say, said, things\n",
      "topic T1: iran, nuclear, agreement, deal, sanctions, irans, iranian, israel, weapons, weapon\n",
      "topic T2: service, family, life, served, years, honor, university, wife, career, school\n",
      "topic T3: veterans, veteran, affairs, service, benefits, served, military, honor, vietnam, care\n",
      "topic T4: obamacare, insurance, law, health, plans, plan, coverage, costs, americans, people\n",
      "topic T5: va, veterans, employees, affairs, care, medical, accountability, choice, veteran, facility\n",
      "topic T6: budget, spending, cuts, defense, billion, fiscal, republican, cut, trillion, deficit\n",
      "topic T7: health, care, public, centers, womens, access, services, disease, cancer, prevention\n",
      "topic T8: court, supreme, constitution, nominee, president, constitutional, senate, election, justice, decision\n",
      "topic T9: trade, agreement, agreements, tpa, countries, authority, jobs, american, partnership, products\n",
      "topic T10: amendment, chairman, chair, mr, balance, amendments, offered, time, gentleman, offer\n",
      "topic T11: senator, senate, senators, floor, president, committee, colleague, worked, senior, iowa\n",
      "topic T12: energy, efficiency, gas, natural, power, clean, technologies, production, development, jobs\n",
      "topic T13: opioid, addiction, drug, heroin, prescription, epidemic, treatment, abuse, drugs, pain\n",
      "topic T14: gun, violence, guns, background, checks, buy, check, mass, list, people\n",
      "topic T15: water, clean, flint, california, infrastructure, waters, river, corps, michigan, lead\n",
      "topic T16: senate, vote, amendments, debate, house, majority, committee, floor, bills, bipartisan\n",
      "topic T17: trafficking, victims, human, sex, crime, enforcement, girls, legislation, sexual, crimes\n",
      "topic T18: money, billion, spending, million, spend, dollars, taxpayer, spent, waste, year\n",
      "topic T19: puerto, rico, island, board, crisis, debt, citizens, oversight, economic, people\n",
      "topic T20: police, officers, enforcement, law, officer, duty, killed, line, protect, lives\n",
      "topic T21: climate, change, carbon, pollution, fossil, emissions, global, scientists, clean, science\n",
      "topic T22: planned, parenthood, womens, services, care, parts, organization, centers, cancer, funding\n",
      "topic T23: small, businesses, business, companies, capital, regulations, regulatory, company, economy, jobs\n",
      "topic T24: tax, taxes, code, credit, income, reform, pay, permanent, revenue, corporate\n",
      "topic T25: cyber, information, privacy, sharing, companies, data, intelligence, security, personal, private\n",
      "topic T26: security, homeland, department, dhs, border, threats, secretary, funding, clean, fund\n",
      "topic T27: zika, virus, emergency, disease, public, control, funding, cases, health, response\n",
      "topic T28: women, men, womens, equal, woman, pay, girls, discrimination, young, cancer\n",
      "topic T29: military, defense, troops, authorization, armed, army, forces, department, national, men\n",
      "topic T30: rights, voting, civil, african, black, act, americans, right, vote, discrimination\n",
      "topic T31: oil, gas, export, ban, prices, price, production, exports, industry, natural\n",
      "topic T32: isis, terrorist, syria, iraq, terrorists, attacks, refugees, foreign, isil, terrorism\n",
      "topic T33: school, schools, education, students, teachers, high, districts, parents, kids, student\n",
      "topic T34: research, science, cancer, medical, technology, disease, space, scientific, innovation, development\n",
      "topic T35: states, united, world, countries, america, refugees, foreign, international, country, state\n",
      "topic T36: financial, banks, consumer, street, consumers, institutions, wall, loans, credit, crisis\n",
      "topic T37: children, child, families, kids, parents, family, youth, young, life, poverty\n",
      "topic T38: north, korea, nuclear, sanctions, carolina, regime, missile, south, weapons, dakota\n",
      "topic T39: legislation, chairman, committee, thank, support, bipartisan, act, work, important, ranking\n",
      "topic T40: students, college, student, loan, education, loans, university, higher, aid, young\n",
      "topic T41: rule, rules, retirement, resolution, waters, proposed, act, labor, clean, advice\n",
      "topic T42: bank, jobs, banks, export, exports, credit, companies, reauthorization, american, businesses\n",
      "topic T43: program, programs, loan, million, assistance, grant, reauthorization, extension, support, phone\n",
      "topic T44: food, consumers, products, agriculture, information, farmers, consumer, vermont, safety, mandatory\n",
      "topic T45: community, communities, local, city, state, county, district, new, town, residents\n",
      "topic T46: debt, spending, trillion, limit, pay, deficit, treasury, fiscal, student, credit\n",
      "topic T47: republicans, republican, democrats, leader, party, majority, president, said, house, political\n",
      "topic T48: workers, jobs, american, economy, wage, class, percent, wages, families, labor\n",
      "topic T49: federal, government, agencies, law, agency, regulations, act, employees, local, public\n",
      "topic T50: religious, freedom, religion, liberty, faith, government, rights, free, church, human\n",
      "topic T51: coal, west, virginia, industry, power, regulations, jobs, waste, pennsylvania, communities\n",
      "topic T52: general, attorney, ms, nomination, secretary, department, office, nominee, confirmed, investigation\n",
      "topic T53: housing, assistance, affordable, families, public, lowincome, programs, income, fair, homes\n",
      "topic T54: funding, appropriations, million, fiscal, programs, year, billion, funds, fund, bills\n",
      "topic T55: transportation, infrastructure, highway, bridges, roads, rail, projects, safety, longterm, trust\n",
      "topic T56: immigration, executive, president, law, immigrants, illegal, laws, presidents, congress, border\n",
      "topic T57: air, force, base, clean, guard, pollution, training, army, operations, standards\n",
      "topic T58: speaker, mr, house, time, gentleman, balance, consume, yield, congress, today\n",
      "topic T59: irs, employees, taxpayers, service, taxes, taxpayer, agency, revenue, political, information\n",
      "topic T60: dr, university, king, medical, education, president, leadership, african, board, history\n",
      "topic T61: national, park, association, guard, historic, security, american, site, service, president\n",
      "topic T62: justice, criminal, victims, sexual, crime, prison, assault, legal, law, department\n",
      "topic T63: medicare, seniors, social, medicaid, security, benefits, patients, retirement, programs, americans\n",
      "topic T64: judge, judicial, nominees, judges, district, court, judiciary, nomination, confirmed, senate\n",
      "topic T65: mental, treatment, health, help, crisis, programs, families, need, suffering, services\n",
      "topic T66: care, affordable, insurance, act, health, coverage, medicaid, repeal, patients, million\n",
      "topic T67: epa, regulations, clean, environmental, agency, regulation, regulatory, standards, power, emissions\n",
      "topic T68: forest, service, management, lands, products, rural, carbon, natural, healthy, national\n",
      "topic T69: abortion, life, madam, medical, pain, weeks, taxpayer, human, born, protection\n",
      "topic T70: pipeline, keystone, project, jobs, oil, construction, environmental, process, safety, president\n",
      "topic T71: war, world, vietnam, ii, iraq, honor, army, isil, american, syria\n",
      "topic T72: cuba, regime, travel, relations, policy, obama, island, human, president, political\n",
      "topic T73: nevada, ms, dedication, southern, wish, state, community, mr, recognize, team\n",
      "topic T74: land, conservation, lands, wildlife, species, fish, fund, public, management, natural\n",
      "LDA\n"
     ]
    },
    {
     "ename": "NameError",
     "evalue": "name 'num_of_top_words' is not defined",
     "output_type": "error",
     "traceback": [
      "\u001b[0;31m---------------------------------------------------------------------------\u001b[0m",
      "\u001b[0;31mNameError\u001b[0m                                 Traceback (most recent call last)",
      "\u001b[0;32m<ipython-input-152-a2769bee6530>\u001b[0m in \u001b[0;36m<module>\u001b[0;34m()\u001b[0m\n\u001b[1;32m      9\u001b[0m \u001b[0;34m\u001b[0m\u001b[0m\n\u001b[1;32m     10\u001b[0m \u001b[0mprint\u001b[0m\u001b[0;34m(\u001b[0m\u001b[0;34m\"LDA\"\u001b[0m\u001b[0;34m)\u001b[0m\u001b[0;34m\u001b[0m\u001b[0m\n\u001b[0;32m---> 11\u001b[0;31m \u001b[0mdisplay_topics\u001b[0m\u001b[0;34m(\u001b[0m\u001b[0mword_75topics_LDA\u001b[0m\u001b[0;34m,\u001b[0m \u001b[0mnum_of_top_words\u001b[0m\u001b[0;34m)\u001b[0m\u001b[0;34m\u001b[0m\u001b[0m\n\u001b[0m",
      "\u001b[0;31mNameError\u001b[0m: name 'num_of_top_words' is not defined"
     ]
    }
   ],
   "source": [
    "def display_topics(df, num_of_top_words = 10):\n",
    "    for t in df.columns[1:] :\n",
    "        words = df.sort_values(by = t, ascending = False)['word']\n",
    "        print('topic {}: '.format(t) +\", \".format(t).join([w for w in words[:num_of_top_words]] ))\n",
    "\n",
    "\n"
   ]
  },
  {
   "cell_type": "code",
   "execution_count": 155,
   "metadata": {},
   "outputs": [
    {
     "name": "stdout",
     "output_type": "stream",
     "text": [
      "nmf:\n",
      "topic T0: people, going, think, dont, want, know, just, say, said, things\n",
      "topic T1: iran, nuclear, agreement, deal, sanctions, irans, iranian, israel, weapons, regime\n",
      "topic T2: service, community, years, served, family, honor, life, war, military, women\n",
      "topic T3: veterans, va, veteran, affairs, care, military, mental, medical, benefits, service\n",
      "topic T4: health, care, insurance, obamacare, affordable, coverage, medicare, medicaid, americans, act\n",
      "topic T5: security, homeland, department, immigration, cyber, border, dhs, isis, terrorist, attacks\n",
      "topic T6: budget, spending, debt, defense, billion, cuts, fiscal, trillion, appropriations, money\n",
      "topic T7: amendment, chairman, federal, program, information, act, government, support, chair, national\n",
      "topic T8: court, supreme, justice, constitution, judge, nominee, president, senate, judicial, nomination\n",
      "topic T9: trade, agreement, agreements, tpa, jobs, workers, countries, american, authority, products\n",
      "topic T10: students, education, school, schools, student, children, college, teachers, child, parents\n",
      "topic T11: senator, senate, committee, vote, amendments, floor, senators, leader, republican, bipartisan\n",
      "topic T12: energy, oil, pipeline, gas, jobs, keystone, natural, coal, efficiency, production\n",
      "topic T13: opioid, addiction, drug, heroin, prescription, treatment, abuse, epidemic, drugs, pain\n",
      "topic T14: gun, violence, guns, background, checks, buy, terrorist, terrorists, check, mass\n",
      "topic T15: water, epa, clean, rule, flint, california, waters, conservation, land, environmental\n",
      "topic T16: speaker, mr, house, rule, congress, time, legislation, thank, act, committee\n",
      "topic T17: trafficking, victims, human, sex, children, child, crime, sexual, justice, legislation\n",
      "topic T18: zika, virus, funding, health, emergency, disease, public, control, billion, republicans\n",
      "topic T19: puerto, rico, debt, island, board, crisis, citizens, oversight, fiscal, economic\n",
      "topic T20: police, officers, enforcement, law, officer, local, immigration, communities, duty, killed\n",
      "topic T21: climate, change, carbon, pollution, emissions, fossil, clean, science, global, scientists\n",
      "topic T22: planned, parenthood, women, abortion, womens, health, services, care, cancer, funding\n",
      "topic T23: small, businesses, bank, business, jobs, companies, financial, banks, regulations, economy\n",
      "topic T24: tax, taxes, irs, code, pay, income, credit, transportation, reform, infrastructure\n",
      "LDA\n",
      "topic T0: federal, information, act, small, government, companies, business, businesses, legislation, private\n",
      "topic T1: years, mr, community, state, life, family, service, president, today, great\n",
      "topic T2: budget, tax, spending, debt, money, billion, year, pay, years, percent\n",
      "topic T3: amendment, rule, epa, act, states, process, federal, rules, time, state\n",
      "topic T4: iran, nuclear, united, agreement, president, deal, states, world, sanctions, administration\n",
      "topic T5: children, child, religious, states, freedom, human, families, parents, refugees, life\n",
      "topic T6: trade, american, workers, jobs, agreement, countries, economy, united, labor, agreements\n",
      "topic T7: oil, jobs, states, infrastructure, transportation, economy, american, bank, united, pipeline\n",
      "topic T8: energy, coal, north, natural, gas, project, production, efficiency, power, development\n",
      "topic T9: mr, speaker, thank, time, chairman, committee, support, house, legislation, congress\n",
      "topic T10: gun, law, puerto, enforcement, police, violence, people, rico, officers, guns\n",
      "topic T11: court, senate, justice, president, supreme, judge, nominee, judiciary, republican, committee\n",
      "topic T12: funding, zika, research, program, million, programs, fund, funds, national, billion\n",
      "topic T13: drug, treatment, addiction, trafficking, opioid, abuse, victims, help, heroin, legislation\n",
      "topic T14: women, rights, planned, act, parenthood, right, voting, abortion, womens, civil\n",
      "topic T15: water, land, state, communities, federal, california, clean, national, forest, conservation\n",
      "topic T16: vote, senate, republicans, house, republican, president, democrats, debate, majority, floor\n",
      "topic T17: veterans, military, defense, va, women, war, men, air, force, service\n",
      "topic T18: president, law, congress, constitution, government, court, states, united, people, american\n",
      "topic T19: climate, change, clean, carbon, science, global, industry, power, air, pollution\n",
      "topic T20: education, students, school, schools, program, college, student, housing, families, programs\n",
      "topic T21: senator, senate, committee, work, important, legislation, thank, floor, bipartisan, senators\n",
      "topic T22: security, department, homeland, information, cyber, intelligence, attacks, terrorist, national, border\n",
      "topic T23: health, care, insurance, obamacare, americans, affordable, people, medical, act, percent\n",
      "topic T24: people, going, just, know, dont, think, want, say, said, way\n"
     ]
    }
   ],
   "source": [
    "print(\"nmf:\")\n",
    "display_topics(word_topics_NMF, num_of_top_words = 10)\n",
    "\n",
    "print(\"LDA\")\n",
    "display_topics(word_topics_LDA, num_of_top_words = 10)"
   ]
  },
  {
   "cell_type": "code",
   "execution_count": null,
   "metadata": {},
   "outputs": [],
   "source": []
  }
 ],
 "metadata": {
  "kernelspec": {
   "display_name": "Python 3",
   "language": "python",
   "name": "python3"
  },
  "language_info": {
   "codemirror_mode": {
    "name": "ipython",
    "version": 3
   },
   "file_extension": ".py",
   "mimetype": "text/x-python",
   "name": "python",
   "nbconvert_exporter": "python",
   "pygments_lexer": "ipython3",
   "version": "3.6.5"
  }
 },
 "nbformat": 4,
 "nbformat_minor": 2
}
