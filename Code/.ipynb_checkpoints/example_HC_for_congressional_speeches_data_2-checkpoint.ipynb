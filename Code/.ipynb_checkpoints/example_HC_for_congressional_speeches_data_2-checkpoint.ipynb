{
 "cells": [
  {
   "cell_type": "markdown",
   "metadata": {},
   "source": [
    "<H1> Word frequency changes in congressional records with term frequency–inverse document frequency (TF-IDF) analysis </H1> "
   ]
  },
  {
   "cell_type": "code",
   "execution_count": 1,
   "metadata": {},
   "outputs": [
    {
     "name": "stderr",
     "output_type": "stream",
     "text": [
      "Parsed with column specification:\n",
      "cols(\n",
      "  speech_id = col_integer(),\n",
      "  date = col_integer(),\n",
      "  congress_id = col_integer(),\n",
      "  chamber = col_character(),\n",
      "  party = col_character(),\n",
      "  speech = col_character()\n",
      ")\n"
     ]
    }
   ],
   "source": [
    "library(readr)\n",
    "raw.corpus <- read_csv(\"~/Downloads/CongRec/speech_w_data.csv\")"
   ]
  },
  {
   "cell_type": "code",
   "execution_count": 21,
   "metadata": {},
   "outputs": [],
   "source": [
    "library(tidyverse)\n",
    "\n",
    "# compare word usage between the (H)ouse and the (S)enate in the 114th congress\n",
    "\n",
    "unit1 <- raw.corpus %>%\n",
    "    filter(party == 'R', chamber == 'H', congress_id == 114) %>%\n",
    "    select(speech_id, speech)\n",
    "\n",
    "unit2 <- raw.corpus %>%\n",
    "    filter(party == 'D', chamber == 'H', congress_id == 114) %>%\n",
    "    select(speech_id, speech)"
   ]
  },
  {
   "cell_type": "code",
   "execution_count": 22,
   "metadata": {},
   "outputs": [],
   "source": [
    "library(tidytext)\n",
    "\n",
    "#compute tf-idf of each corpus (document = speeche)\n",
    "unit1.dt <- unit1 %>%\n",
    "    unnest_tokens(word, speech) %>%\n",
    "    mutate(word = str_extract(word, \"[a-z']+\")) %>%\n",
    "    count(speech_id, word, sort = TRUE) %>%\n",
    "    bind_tf_idf(word, speech_id, n)\n",
    "\n",
    "unit2.dt <- unit2 %>%\n",
    "    unnest_tokens(word, speech) %>%\n",
    "    mutate(word = str_extract(word, \"[a-z']+\")) %>%\n",
    "    count(speech_id, word, sort = TRUE) %>%\n",
    "    bind_tf_idf(word, speech_id, n) \n"
   ]
  },
  {
   "cell_type": "code",
   "execution_count": 23,
   "metadata": {},
   "outputs": [
    {
     "name": "stderr",
     "output_type": "stream",
     "text": [
      "Selecting by tf_idf\n",
      "Selecting by tf_idf\n"
     ]
    }
   ],
   "source": [
    "#for each topic consider only k most dominant words\n",
    "\n",
    "k = 7\n",
    "\n",
    "counts1 <- unit1.dt %>% \n",
    "  arrange(desc(tf_idf)) %>%\n",
    "  #filter(speech_id < 1110000050) %>%\n",
    "  mutate(word = factor(word, levels = rev(unique(word)))) %>% \n",
    "  group_by(speech_id) %>% \n",
    "  top_n(k) %>% \n",
    "  ungroup %>%\n",
    "  count(word, sort = TRUE)\n",
    "\n",
    "counts2 <- unit2.dt %>% \n",
    "  arrange(desc(tf_idf)) %>%\n",
    "  #filter(speech_id < 1110000050) %>%\n",
    "  mutate(word = factor(word, levels = rev(unique(word)))) %>% \n",
    "  group_by(speech_id) %>% \n",
    "  top_n(k) %>% \n",
    "  ungroup %>%\n",
    "  count(word, sort = TRUE)\n",
    "    "
   ]
  },
  {
   "cell_type": "code",
   "execution_count": 24,
   "metadata": {},
   "outputs": [
    {
     "name": "stderr",
     "output_type": "stream",
     "text": [
      "Warning message:\n",
      "“Column `word` joining factors with different levels, coercing to character vector”"
     ]
    },
    {
     "data": {
      "text/html": [
       "16.6851668844417"
      ],
      "text/latex": [
       "16.6851668844417"
      ],
      "text/markdown": [
       "16.6851668844417"
      ],
      "text/plain": [
       "[1] 16.68517"
      ]
     },
     "metadata": {},
     "output_type": "display_data"
    }
   ],
   "source": [
    "source(\"./HC_aux.R\")\n",
    "\n",
    "two.counts <- counts1 %>% \n",
    "    inner_join(counts2, by = 'word') %>%\n",
    "    mutate(total.x = sum(nn.x), total.y = sum(nn.y)) %>%\n",
    "    mutate(total = nn.x + nn.y) %>%\n",
    "    filter(total > 10) %>%\n",
    "    rowwise() %>%\n",
    "        mutate(p = (nn.x+nn.y) / (total.x + total.y)) %>%\n",
    "        mutate(se = sqrt(p*(1-p)*(1/total.x + 1/ total.y))) %>%\n",
    "        mutate(z.score = (nn.x /total.x - nn.y / total.y) / se) %>%\n",
    "        mutate(pval = 2*pnorm(-abs(z.score))) %>%\n",
    "    dplyr::select(word, nn.x, nn.y, pval, total.x, total.y) \n",
    "    \n",
    "hc = hc.vals(two.counts$pval, alpha = 0.5)\n",
    "hc$hc.star\n",
    "HC <- data_frame(uu = hc$uu, zz = hc$z, pp = hc$p.sorted, word = two.counts$word[hc$p.sorted_idx])"
   ]
  },
  {
   "cell_type": "code",
   "execution_count": 25,
   "metadata": {},
   "outputs": [
    {
     "name": "stderr",
     "output_type": "stream",
     "text": [
      "Selecting by total.y\n"
     ]
    },
    {
     "data": {
      "text/html": [
       "<table>\n",
       "<thead><tr><th scope=col>word</th><th scope=col>nn.x</th><th scope=col>nn.y</th><th scope=col>pval</th><th scope=col>total.x</th><th scope=col>total.y</th></tr></thead>\n",
       "<tbody>\n",
       "\t<tr><td>irans         </td><td>35            </td><td>39            </td><td>0.9981285     </td><td>23204         </td><td>25870         </td></tr>\n",
       "\t<tr><td>poor          </td><td> 9            </td><td>10            </td><td>0.9940968     </td><td>23204         </td><td>25870         </td></tr>\n",
       "\t<tr><td>report        </td><td> 9            </td><td>10            </td><td>0.9940968     </td><td>23204         </td><td>25870         </td></tr>\n",
       "\t<tr><td>choices       </td><td> 9            </td><td>10            </td><td>0.9940968     </td><td>23204         </td><td>25870         </td></tr>\n",
       "\t<tr><td>navy          </td><td> 9            </td><td>10            </td><td>0.9940968     </td><td>23204         </td><td>25870         </td></tr>\n",
       "\t<tr><td>corridor      </td><td> 9            </td><td>10            </td><td>0.9940968     </td><td>23204         </td><td>25870         </td></tr>\n",
       "\t<tr><td>wildlife      </td><td>18            </td><td>20            </td><td>0.9916500     </td><td>23204         </td><td>25870         </td></tr>\n",
       "\t<tr><td>poe           </td><td> 8            </td><td> 9            </td><td>0.9851810     </td><td>23204         </td><td>25870         </td></tr>\n",
       "\t<tr><td>unions        </td><td> 8            </td><td> 9            </td><td>0.9851810     </td><td>23204         </td><td>25870         </td></tr>\n",
       "\t<tr><td>pregnancy     </td><td> 8            </td><td> 9            </td><td>0.9851810     </td><td>23204         </td><td>25870         </td></tr>\n",
       "\t<tr><td>workforce     </td><td> 8            </td><td> 9            </td><td>0.9851810     </td><td>23204         </td><td>25870         </td></tr>\n",
       "\t<tr><td>shooting      </td><td> 8            </td><td> 9            </td><td>0.9851810     </td><td>23204         </td><td>25870         </td></tr>\n",
       "\t<tr><td>relief        </td><td> 8            </td><td> 9            </td><td>0.9851810     </td><td>23204         </td><td>25870         </td></tr>\n",
       "\t<tr><td>term          </td><td> 8            </td><td> 9            </td><td>0.9851810     </td><td>23204         </td><td>25870         </td></tr>\n",
       "\t<tr><td>sandy         </td><td> 8            </td><td> 9            </td><td>0.9851810     </td><td>23204         </td><td>25870         </td></tr>\n",
       "\t<tr><td>ceiling       </td><td> 8            </td><td> 9            </td><td>0.9851810     </td><td>23204         </td><td>25870         </td></tr>\n",
       "\t<tr><td>constitutional</td><td>10            </td><td>11            </td><td>0.9754388     </td><td>23204         </td><td>25870         </td></tr>\n",
       "\t<tr><td>cities        </td><td>10            </td><td>11            </td><td>0.9754388     </td><td>23204         </td><td>25870         </td></tr>\n",
       "\t<tr><td>fiscal        </td><td>10            </td><td>11            </td><td>0.9754388     </td><td>23204         </td><td>25870         </td></tr>\n",
       "\t<tr><td>faa           </td><td>10            </td><td>11            </td><td>0.9754388     </td><td>23204         </td><td>25870         </td></tr>\n",
       "\t<tr><td>visa          </td><td>10            </td><td>11            </td><td>0.9754388     </td><td>23204         </td><td>25870         </td></tr>\n",
       "\t<tr><td>labeling      </td><td>24            </td><td>27            </td><td>0.9743268     </td><td>23204         </td><td>25870         </td></tr>\n",
       "\t<tr><td>liberty       </td><td> 7            </td><td> 8            </td><td>0.9618177     </td><td>23204         </td><td>25870         </td></tr>\n",
       "\t<tr><td>valley        </td><td> 7            </td><td> 8            </td><td>0.9618177     </td><td>23204         </td><td>25870         </td></tr>\n",
       "\t<tr><td>france        </td><td> 7            </td><td> 8            </td><td>0.9618177     </td><td>23204         </td><td>25870         </td></tr>\n",
       "\t<tr><td>nasa          </td><td> 7            </td><td> 8            </td><td>0.9618177     </td><td>23204         </td><td>25870         </td></tr>\n",
       "\t<tr><td>firearm       </td><td> 7            </td><td> 8            </td><td>0.9618177     </td><td>23204         </td><td>25870         </td></tr>\n",
       "\t<tr><td>inspector     </td><td>11            </td><td>12            </td><td>0.9584381     </td><td>23204         </td><td>25870         </td></tr>\n",
       "\t<tr><td>bank          </td><td>47            </td><td>53            </td><td>0.9546402     </td><td>23204         </td><td>25870         </td></tr>\n",
       "\t<tr><td>amendments    </td><td>21            </td><td>23            </td><td>0.9529833     </td><td>23204         </td><td>25870         </td></tr>\n",
       "\t<tr><td>⋮</td><td>⋮</td><td>⋮</td><td>⋮</td><td>⋮</td><td>⋮</td></tr>\n",
       "\t<tr><td>resolution  </td><td> 14         </td><td> 48         </td><td>9.680764e-05</td><td>23204       </td><td>25870       </td></tr>\n",
       "\t<tr><td>check       </td><td>  1         </td><td> 20         </td><td>9.469975e-05</td><td>23204       </td><td>25870       </td></tr>\n",
       "\t<tr><td>tax         </td><td> 74         </td><td>144         </td><td>7.701656e-05</td><td>23204       </td><td>25870       </td></tr>\n",
       "\t<tr><td>change      </td><td>  7         </td><td> 35         </td><td>7.008673e-05</td><td>23204       </td><td>25870       </td></tr>\n",
       "\t<tr><td>president   </td><td> 42         </td><td> 15         </td><td>6.480172e-05</td><td>23204       </td><td>25870       </td></tr>\n",
       "\t<tr><td>capital     </td><td> 33         </td><td>  9         </td><td>4.842723e-05</td><td>23204       </td><td>25870       </td></tr>\n",
       "\t<tr><td>trillion    </td><td> 26         </td><td>  5         </td><td>4.474575e-05</td><td>23204       </td><td>25870       </td></tr>\n",
       "\t<tr><td>data        </td><td> 28         </td><td>  6         </td><td>4.181597e-05</td><td>23204       </td><td>25870       </td></tr>\n",
       "\t<tr><td>reproductive</td><td>  1         </td><td> 22         </td><td>3.702176e-05</td><td>23204       </td><td>25870       </td></tr>\n",
       "\t<tr><td>iran        </td><td>165         </td><td>109         </td><td>1.702614e-05</td><td>23204       </td><td>25870       </td></tr>\n",
       "\t<tr><td>jackson     </td><td>  2         </td><td> 27         </td><td>1.315269e-05</td><td>23204       </td><td>25870       </td></tr>\n",
       "\t<tr><td>religious   </td><td> 52         </td><td> 19         </td><td>1.166371e-05</td><td>23204       </td><td>25870       </td></tr>\n",
       "\t<tr><td>flint       </td><td>  8         </td><td> 42         </td><td>9.293758e-06</td><td>23204       </td><td>25870       </td></tr>\n",
       "\t<tr><td>radical     </td><td> 23         </td><td>  2         </td><td>7.485841e-06</td><td>23204       </td><td>25870       </td></tr>\n",
       "\t<tr><td>west        </td><td> 23         </td><td>  2         </td><td>7.485841e-06</td><td>23204       </td><td>25870       </td></tr>\n",
       "\t<tr><td>deal        </td><td> 75         </td><td> 34         </td><td>6.608512e-06</td><td>23204       </td><td>25870       </td></tr>\n",
       "\t<tr><td>aca         </td><td>  1         </td><td> 26         </td><td>5.708398e-06</td><td>23204       </td><td>25870       </td></tr>\n",
       "\t<tr><td>life        </td><td> 25         </td><td>  2         </td><td>2.394648e-06</td><td>23204       </td><td>25870       </td></tr>\n",
       "\t<tr><td>selma       </td><td>  2         </td><td> 31         </td><td>2.087410e-06</td><td>23204       </td><td>25870       </td></tr>\n",
       "\t<tr><td>african     </td><td>  5         </td><td> 39         </td><td>1.801340e-06</td><td>23204       </td><td>25870       </td></tr>\n",
       "\t<tr><td>women       </td><td> 21         </td><td> 75         </td><td>5.996960e-07</td><td>23204       </td><td>25870       </td></tr>\n",
       "\t<tr><td>regime      </td><td> 40         </td><td>  7         </td><td>2.034642e-07</td><td>23204       </td><td>25870       </td></tr>\n",
       "\t<tr><td>guns        </td><td>  7         </td><td> 51         </td><td>7.664328e-08</td><td>23204       </td><td>25870       </td></tr>\n",
       "\t<tr><td>obamacare   </td><td> 37         </td><td>  4         </td><td>3.547172e-08</td><td>23204       </td><td>25870       </td></tr>\n",
       "\t<tr><td>background  </td><td>  2         </td><td> 40         </td><td>3.352228e-08</td><td>23204       </td><td>25870       </td></tr>\n",
       "\t<tr><td>climate     </td><td> 19         </td><td> 80         </td><td>2.093208e-08</td><td>23204       </td><td>25870       </td></tr>\n",
       "\t<tr><td>black       </td><td>  5         </td><td> 53         </td><td>3.609304e-09</td><td>23204       </td><td>25870       </td></tr>\n",
       "\t<tr><td>voting      </td><td>  5         </td><td> 54         </td><td>2.309674e-09</td><td>23204       </td><td>25870       </td></tr>\n",
       "\t<tr><td>violence    </td><td>  7         </td><td> 70         </td><td>1.842457e-11</td><td>23204       </td><td>25870       </td></tr>\n",
       "\t<tr><td>gun         </td><td> 24         </td><td>135         </td><td>3.854285e-16</td><td>23204       </td><td>25870       </td></tr>\n",
       "</tbody>\n",
       "</table>\n"
      ],
      "text/latex": [
       "\\begin{tabular}{r|llllll}\n",
       " word & nn.x & nn.y & pval & total.x & total.y\\\\\n",
       "\\hline\n",
       "\t irans          & 35             & 39             & 0.9981285      & 23204          & 25870         \\\\\n",
       "\t poor           &  9             & 10             & 0.9940968      & 23204          & 25870         \\\\\n",
       "\t report         &  9             & 10             & 0.9940968      & 23204          & 25870         \\\\\n",
       "\t choices        &  9             & 10             & 0.9940968      & 23204          & 25870         \\\\\n",
       "\t navy           &  9             & 10             & 0.9940968      & 23204          & 25870         \\\\\n",
       "\t corridor       &  9             & 10             & 0.9940968      & 23204          & 25870         \\\\\n",
       "\t wildlife       & 18             & 20             & 0.9916500      & 23204          & 25870         \\\\\n",
       "\t poe            &  8             &  9             & 0.9851810      & 23204          & 25870         \\\\\n",
       "\t unions         &  8             &  9             & 0.9851810      & 23204          & 25870         \\\\\n",
       "\t pregnancy      &  8             &  9             & 0.9851810      & 23204          & 25870         \\\\\n",
       "\t workforce      &  8             &  9             & 0.9851810      & 23204          & 25870         \\\\\n",
       "\t shooting       &  8             &  9             & 0.9851810      & 23204          & 25870         \\\\\n",
       "\t relief         &  8             &  9             & 0.9851810      & 23204          & 25870         \\\\\n",
       "\t term           &  8             &  9             & 0.9851810      & 23204          & 25870         \\\\\n",
       "\t sandy          &  8             &  9             & 0.9851810      & 23204          & 25870         \\\\\n",
       "\t ceiling        &  8             &  9             & 0.9851810      & 23204          & 25870         \\\\\n",
       "\t constitutional & 10             & 11             & 0.9754388      & 23204          & 25870         \\\\\n",
       "\t cities         & 10             & 11             & 0.9754388      & 23204          & 25870         \\\\\n",
       "\t fiscal         & 10             & 11             & 0.9754388      & 23204          & 25870         \\\\\n",
       "\t faa            & 10             & 11             & 0.9754388      & 23204          & 25870         \\\\\n",
       "\t visa           & 10             & 11             & 0.9754388      & 23204          & 25870         \\\\\n",
       "\t labeling       & 24             & 27             & 0.9743268      & 23204          & 25870         \\\\\n",
       "\t liberty        &  7             &  8             & 0.9618177      & 23204          & 25870         \\\\\n",
       "\t valley         &  7             &  8             & 0.9618177      & 23204          & 25870         \\\\\n",
       "\t france         &  7             &  8             & 0.9618177      & 23204          & 25870         \\\\\n",
       "\t nasa           &  7             &  8             & 0.9618177      & 23204          & 25870         \\\\\n",
       "\t firearm        &  7             &  8             & 0.9618177      & 23204          & 25870         \\\\\n",
       "\t inspector      & 11             & 12             & 0.9584381      & 23204          & 25870         \\\\\n",
       "\t bank           & 47             & 53             & 0.9546402      & 23204          & 25870         \\\\\n",
       "\t amendments     & 21             & 23             & 0.9529833      & 23204          & 25870         \\\\\n",
       "\t ⋮ & ⋮ & ⋮ & ⋮ & ⋮ & ⋮\\\\\n",
       "\t resolution   &  14          &  48          & 9.680764e-05 & 23204        & 25870       \\\\\n",
       "\t check        &   1          &  20          & 9.469975e-05 & 23204        & 25870       \\\\\n",
       "\t tax          &  74          & 144          & 7.701656e-05 & 23204        & 25870       \\\\\n",
       "\t change       &   7          &  35          & 7.008673e-05 & 23204        & 25870       \\\\\n",
       "\t president    &  42          &  15          & 6.480172e-05 & 23204        & 25870       \\\\\n",
       "\t capital      &  33          &   9          & 4.842723e-05 & 23204        & 25870       \\\\\n",
       "\t trillion     &  26          &   5          & 4.474575e-05 & 23204        & 25870       \\\\\n",
       "\t data         &  28          &   6          & 4.181597e-05 & 23204        & 25870       \\\\\n",
       "\t reproductive &   1          &  22          & 3.702176e-05 & 23204        & 25870       \\\\\n",
       "\t iran         & 165          & 109          & 1.702614e-05 & 23204        & 25870       \\\\\n",
       "\t jackson      &   2          &  27          & 1.315269e-05 & 23204        & 25870       \\\\\n",
       "\t religious    &  52          &  19          & 1.166371e-05 & 23204        & 25870       \\\\\n",
       "\t flint        &   8          &  42          & 9.293758e-06 & 23204        & 25870       \\\\\n",
       "\t radical      &  23          &   2          & 7.485841e-06 & 23204        & 25870       \\\\\n",
       "\t west         &  23          &   2          & 7.485841e-06 & 23204        & 25870       \\\\\n",
       "\t deal         &  75          &  34          & 6.608512e-06 & 23204        & 25870       \\\\\n",
       "\t aca          &   1          &  26          & 5.708398e-06 & 23204        & 25870       \\\\\n",
       "\t life         &  25          &   2          & 2.394648e-06 & 23204        & 25870       \\\\\n",
       "\t selma        &   2          &  31          & 2.087410e-06 & 23204        & 25870       \\\\\n",
       "\t african      &   5          &  39          & 1.801340e-06 & 23204        & 25870       \\\\\n",
       "\t women        &  21          &  75          & 5.996960e-07 & 23204        & 25870       \\\\\n",
       "\t regime       &  40          &   7          & 2.034642e-07 & 23204        & 25870       \\\\\n",
       "\t guns         &   7          &  51          & 7.664328e-08 & 23204        & 25870       \\\\\n",
       "\t obamacare    &  37          &   4          & 3.547172e-08 & 23204        & 25870       \\\\\n",
       "\t background   &   2          &  40          & 3.352228e-08 & 23204        & 25870       \\\\\n",
       "\t climate      &  19          &  80          & 2.093208e-08 & 23204        & 25870       \\\\\n",
       "\t black        &   5          &  53          & 3.609304e-09 & 23204        & 25870       \\\\\n",
       "\t voting       &   5          &  54          & 2.309674e-09 & 23204        & 25870       \\\\\n",
       "\t violence     &   7          &  70          & 1.842457e-11 & 23204        & 25870       \\\\\n",
       "\t gun          &  24          & 135          & 3.854285e-16 & 23204        & 25870       \\\\\n",
       "\\end{tabular}\n"
      ],
      "text/markdown": [
       "\n",
       "word | nn.x | nn.y | pval | total.x | total.y | \n",
       "|---|---|---|---|---|---|---|---|---|---|---|---|---|---|---|---|---|---|---|---|---|---|---|---|---|---|---|---|---|---|---|---|---|---|---|---|---|---|---|---|---|---|---|---|---|---|---|---|---|---|---|---|---|---|---|---|---|---|---|---|---|\n",
       "| irans          | 35             | 39             | 0.9981285      | 23204          | 25870          | \n",
       "| poor           |  9             | 10             | 0.9940968      | 23204          | 25870          | \n",
       "| report         |  9             | 10             | 0.9940968      | 23204          | 25870          | \n",
       "| choices        |  9             | 10             | 0.9940968      | 23204          | 25870          | \n",
       "| navy           |  9             | 10             | 0.9940968      | 23204          | 25870          | \n",
       "| corridor       |  9             | 10             | 0.9940968      | 23204          | 25870          | \n",
       "| wildlife       | 18             | 20             | 0.9916500      | 23204          | 25870          | \n",
       "| poe            |  8             |  9             | 0.9851810      | 23204          | 25870          | \n",
       "| unions         |  8             |  9             | 0.9851810      | 23204          | 25870          | \n",
       "| pregnancy      |  8             |  9             | 0.9851810      | 23204          | 25870          | \n",
       "| workforce      |  8             |  9             | 0.9851810      | 23204          | 25870          | \n",
       "| shooting       |  8             |  9             | 0.9851810      | 23204          | 25870          | \n",
       "| relief         |  8             |  9             | 0.9851810      | 23204          | 25870          | \n",
       "| term           |  8             |  9             | 0.9851810      | 23204          | 25870          | \n",
       "| sandy          |  8             |  9             | 0.9851810      | 23204          | 25870          | \n",
       "| ceiling        |  8             |  9             | 0.9851810      | 23204          | 25870          | \n",
       "| constitutional | 10             | 11             | 0.9754388      | 23204          | 25870          | \n",
       "| cities         | 10             | 11             | 0.9754388      | 23204          | 25870          | \n",
       "| fiscal         | 10             | 11             | 0.9754388      | 23204          | 25870          | \n",
       "| faa            | 10             | 11             | 0.9754388      | 23204          | 25870          | \n",
       "| visa           | 10             | 11             | 0.9754388      | 23204          | 25870          | \n",
       "| labeling       | 24             | 27             | 0.9743268      | 23204          | 25870          | \n",
       "| liberty        |  7             |  8             | 0.9618177      | 23204          | 25870          | \n",
       "| valley         |  7             |  8             | 0.9618177      | 23204          | 25870          | \n",
       "| france         |  7             |  8             | 0.9618177      | 23204          | 25870          | \n",
       "| nasa           |  7             |  8             | 0.9618177      | 23204          | 25870          | \n",
       "| firearm        |  7             |  8             | 0.9618177      | 23204          | 25870          | \n",
       "| inspector      | 11             | 12             | 0.9584381      | 23204          | 25870          | \n",
       "| bank           | 47             | 53             | 0.9546402      | 23204          | 25870          | \n",
       "| amendments     | 21             | 23             | 0.9529833      | 23204          | 25870          | \n",
       "| ⋮ | ⋮ | ⋮ | ⋮ | ⋮ | ⋮ | \n",
       "| resolution   |  14          |  48          | 9.680764e-05 | 23204        | 25870        | \n",
       "| check        |   1          |  20          | 9.469975e-05 | 23204        | 25870        | \n",
       "| tax          |  74          | 144          | 7.701656e-05 | 23204        | 25870        | \n",
       "| change       |   7          |  35          | 7.008673e-05 | 23204        | 25870        | \n",
       "| president    |  42          |  15          | 6.480172e-05 | 23204        | 25870        | \n",
       "| capital      |  33          |   9          | 4.842723e-05 | 23204        | 25870        | \n",
       "| trillion     |  26          |   5          | 4.474575e-05 | 23204        | 25870        | \n",
       "| data         |  28          |   6          | 4.181597e-05 | 23204        | 25870        | \n",
       "| reproductive |   1          |  22          | 3.702176e-05 | 23204        | 25870        | \n",
       "| iran         | 165          | 109          | 1.702614e-05 | 23204        | 25870        | \n",
       "| jackson      |   2          |  27          | 1.315269e-05 | 23204        | 25870        | \n",
       "| religious    |  52          |  19          | 1.166371e-05 | 23204        | 25870        | \n",
       "| flint        |   8          |  42          | 9.293758e-06 | 23204        | 25870        | \n",
       "| radical      |  23          |   2          | 7.485841e-06 | 23204        | 25870        | \n",
       "| west         |  23          |   2          | 7.485841e-06 | 23204        | 25870        | \n",
       "| deal         |  75          |  34          | 6.608512e-06 | 23204        | 25870        | \n",
       "| aca          |   1          |  26          | 5.708398e-06 | 23204        | 25870        | \n",
       "| life         |  25          |   2          | 2.394648e-06 | 23204        | 25870        | \n",
       "| selma        |   2          |  31          | 2.087410e-06 | 23204        | 25870        | \n",
       "| african      |   5          |  39          | 1.801340e-06 | 23204        | 25870        | \n",
       "| women        |  21          |  75          | 5.996960e-07 | 23204        | 25870        | \n",
       "| regime       |  40          |   7          | 2.034642e-07 | 23204        | 25870        | \n",
       "| guns         |   7          |  51          | 7.664328e-08 | 23204        | 25870        | \n",
       "| obamacare    |  37          |   4          | 3.547172e-08 | 23204        | 25870        | \n",
       "| background   |   2          |  40          | 3.352228e-08 | 23204        | 25870        | \n",
       "| climate      |  19          |  80          | 2.093208e-08 | 23204        | 25870        | \n",
       "| black        |   5          |  53          | 3.609304e-09 | 23204        | 25870        | \n",
       "| voting       |   5          |  54          | 2.309674e-09 | 23204        | 25870        | \n",
       "| violence     |   7          |  70          | 1.842457e-11 | 23204        | 25870        | \n",
       "| gun          |  24          | 135          | 3.854285e-16 | 23204        | 25870        | \n",
       "\n",
       "\n"
      ],
      "text/plain": [
       "     word           nn.x nn.y pval         total.x total.y\n",
       "1    irans          35   39   0.9981285    23204   25870  \n",
       "2    poor            9   10   0.9940968    23204   25870  \n",
       "3    report          9   10   0.9940968    23204   25870  \n",
       "4    choices         9   10   0.9940968    23204   25870  \n",
       "5    navy            9   10   0.9940968    23204   25870  \n",
       "6    corridor        9   10   0.9940968    23204   25870  \n",
       "7    wildlife       18   20   0.9916500    23204   25870  \n",
       "8    poe             8    9   0.9851810    23204   25870  \n",
       "9    unions          8    9   0.9851810    23204   25870  \n",
       "10   pregnancy       8    9   0.9851810    23204   25870  \n",
       "11   workforce       8    9   0.9851810    23204   25870  \n",
       "12   shooting        8    9   0.9851810    23204   25870  \n",
       "13   relief          8    9   0.9851810    23204   25870  \n",
       "14   term            8    9   0.9851810    23204   25870  \n",
       "15   sandy           8    9   0.9851810    23204   25870  \n",
       "16   ceiling         8    9   0.9851810    23204   25870  \n",
       "17   constitutional 10   11   0.9754388    23204   25870  \n",
       "18   cities         10   11   0.9754388    23204   25870  \n",
       "19   fiscal         10   11   0.9754388    23204   25870  \n",
       "20   faa            10   11   0.9754388    23204   25870  \n",
       "21   visa           10   11   0.9754388    23204   25870  \n",
       "22   labeling       24   27   0.9743268    23204   25870  \n",
       "23   liberty         7    8   0.9618177    23204   25870  \n",
       "24   valley          7    8   0.9618177    23204   25870  \n",
       "25   france          7    8   0.9618177    23204   25870  \n",
       "26   nasa            7    8   0.9618177    23204   25870  \n",
       "27   firearm         7    8   0.9618177    23204   25870  \n",
       "28   inspector      11   12   0.9584381    23204   25870  \n",
       "29   bank           47   53   0.9546402    23204   25870  \n",
       "30   amendments     21   23   0.9529833    23204   25870  \n",
       "⋮    ⋮              ⋮    ⋮    ⋮            ⋮       ⋮      \n",
       "1085 resolution      14   48  9.680764e-05 23204   25870  \n",
       "1086 check            1   20  9.469975e-05 23204   25870  \n",
       "1087 tax             74  144  7.701656e-05 23204   25870  \n",
       "1088 change           7   35  7.008673e-05 23204   25870  \n",
       "1089 president       42   15  6.480172e-05 23204   25870  \n",
       "1090 capital         33    9  4.842723e-05 23204   25870  \n",
       "1091 trillion        26    5  4.474575e-05 23204   25870  \n",
       "1092 data            28    6  4.181597e-05 23204   25870  \n",
       "1093 reproductive     1   22  3.702176e-05 23204   25870  \n",
       "1094 iran           165  109  1.702614e-05 23204   25870  \n",
       "1095 jackson          2   27  1.315269e-05 23204   25870  \n",
       "1096 religious       52   19  1.166371e-05 23204   25870  \n",
       "1097 flint            8   42  9.293758e-06 23204   25870  \n",
       "1098 radical         23    2  7.485841e-06 23204   25870  \n",
       "1099 west            23    2  7.485841e-06 23204   25870  \n",
       "1100 deal            75   34  6.608512e-06 23204   25870  \n",
       "1101 aca              1   26  5.708398e-06 23204   25870  \n",
       "1102 life            25    2  2.394648e-06 23204   25870  \n",
       "1103 selma            2   31  2.087410e-06 23204   25870  \n",
       "1104 african          5   39  1.801340e-06 23204   25870  \n",
       "1105 women           21   75  5.996960e-07 23204   25870  \n",
       "1106 regime          40    7  2.034642e-07 23204   25870  \n",
       "1107 guns             7   51  7.664328e-08 23204   25870  \n",
       "1108 obamacare       37    4  3.547172e-08 23204   25870  \n",
       "1109 background       2   40  3.352228e-08 23204   25870  \n",
       "1110 climate         19   80  2.093208e-08 23204   25870  \n",
       "1111 black            5   53  3.609304e-09 23204   25870  \n",
       "1112 voting           5   54  2.309674e-09 23204   25870  \n",
       "1113 violence         7   70  1.842457e-11 23204   25870  \n",
       "1114 gun             24  135  3.854285e-16 23204   25870  "
      ]
     },
     "metadata": {},
     "output_type": "display_data"
    }
   ],
   "source": [
    "two.counts %>%\n",
    "    arrange(desc(pval)) %>%\n",
    "    top_n(-20)"
   ]
  },
  {
   "cell_type": "code",
   "execution_count": 26,
   "metadata": {},
   "outputs": [
    {
     "data": {},
     "metadata": {},
     "output_type": "display_data"
    },
    {
     "data": {
      "image/png": "[encoded data removed]",
      "text/plain": [
       "plot without title"
      ]
     },
     "metadata": {},
     "output_type": "display_data"
    }
   ],
   "source": [
    "#lowest p-values \n",
    "#HC %>% arrange(desc(pp)) %>% top_n(-20, pp) \n",
    "\n",
    "HC %>%\n",
    "    top_n(-20, pp) %>%\n",
    "    ggplot(aes(reorder(word, pp), pp)) + \n",
    "    geom_col(colour = 'red') + \n",
    "    ylab('p-val') +\n",
    "    theme(axis.text.x = element_text(angle = 90, hjust = 1)) +\n",
    "    ggtitle(\"lowest p-vals\")"
   ]
  },
  {
   "cell_type": "code",
   "execution_count": null,
   "metadata": {},
   "outputs": [],
   "source": []
  }
 ],
 "metadata": {
  "kernelspec": {
   "display_name": "R",
   "language": "R",
   "name": "ir"
  },
  "language_info": {
   "codemirror_mode": "r",
   "file_extension": ".r",
   "mimetype": "text/x-r-source",
   "name": "R",
   "pygments_lexer": "r",
   "version": "3.5.1"
  }
 },
 "nbformat": 4,
 "nbformat_minor": 2
}
