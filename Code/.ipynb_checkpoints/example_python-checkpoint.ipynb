{
 "cells": [
  {
   "cell_type": "markdown",
   "metadata": {},
   "source": [
    "# Changes in appearances of words in speeches between parties and congresses"
   ]
  },
  {
   "cell_type": "markdown",
   "metadata": {},
   "source": [
    "In this example we detect changes between two corpus of speeches taken from congressional records. This example shows you how to:\n",
    "\n",
    "- Load, arrange, and clean the data\n",
    "- Compute p-values\n",
    "- Use HC to detect changes"
   ]
  },
  {
   "cell_type": "code",
   "execution_count": 1,
   "metadata": {},
   "outputs": [
    {
     "name": "stdout",
     "output_type": "stream",
     "text": [
      "[nltk_data] Downloading package punkt to\n",
      "[nltk_data]     /Users/rafflesintown/nltk_data...\n",
      "[nltk_data]   Package punkt is already up-to-date!\n"
     ]
    }
   ],
   "source": [
    "# Load speech data\n",
    "import pandas as pd\n",
    "import two_unit_test\n",
    "import nltk\n",
    "nltk.download('punkt')\n",
    "raw_corpus = pd.read_csv(\"../Data/speech_w_data_example.csv\", encoding = 'latin1')\n",
    "headers = list(raw_corpus)\n",
    "# print(headers)"
   ]
  },
  {
   "cell_type": "code",
   "execution_count": 2,
   "metadata": {
    "collapsed": true
   },
   "outputs": [],
   "source": [
    "# Select two units from raw corpus for comparison\n",
    "unit1 = raw_corpus.loc[(raw_corpus.party == 'R') & (raw_corpus.chamber == 'H') & (raw_corpus.congress_id == 114), ['speech_id', 'speech']]\n",
    "unit2 = raw_corpus.loc[(raw_corpus.party == 'D') & (raw_corpus.chamber == 'H') & (raw_corpus.congress_id == 114), ['speech_id', 'speech']]\n",
    "# print(list(unit1))"
   ]
  },
  {
   "cell_type": "code",
   "execution_count": 3,
   "metadata": {
    "collapsed": true
   },
   "outputs": [],
   "source": [
    "list_of_words = pd.read_csv(\"../Data/list_of_1500words.csv\", encoding = 'latin1', names = ['i','word']).iloc[:,1:2]"
   ]
  },
  {
   "cell_type": "code",
   "execution_count": 4,
   "metadata": {},
   "outputs": [
    {
     "name": "stdout",
     "output_type": "stream",
     "text": [
      "time taken: 29.2437062263\n"
     ]
    }
   ],
   "source": [
    "import time\n",
    "start = time.time()\n",
    "hc, features = two_unit_test.two_unit_test(unit1,unit2, list_of_words=list_of_words['word'][1:])\n",
    "print 'time taken:', time.time() - start"
   ]
  },
  {
   "cell_type": "code",
   "execution_count": 7,
   "metadata": {},
   "outputs": [
    {
     "name": "stdout",
     "output_type": "stream",
     "text": [
      "HC score = 25.0291296081\n",
      "List of distinguishing words:\n",
      "           word\n",
      "0          word\n",
      "4         peopl\n",
      "9         amend\n",
      "11         time\n",
      "12      speaker\n",
      "13       nation\n",
      "15         make\n",
      "16         want\n",
      "19      support\n",
      "20          law\n",
      "21          act\n",
      "23       becaus\n",
      "28          say\n",
      "29     congress\n",
      "30         know\n",
      "32         hous\n",
      "33       health\n",
      "35     committe\n",
      "38        feder\n",
      "40         mani\n",
      "48         veri\n",
      "49         rule\n",
      "51      protect\n",
      "52       budget\n",
      "53         care\n",
      "54     chairman\n",
      "56        thank\n",
      "58       provid\n",
      "59         like\n",
      "63       servic\n",
      "...         ...\n",
      "1362       elig\n",
      "1366      print\n",
      "1371   behavior\n",
      "1374    various\n",
      "1378    counsel\n",
      "1379     deport\n",
      "1381     overal\n",
      "1382      ocean\n",
      "1385       roll\n",
      "1393      stood\n",
      "1395   knowledg\n",
      "1396     harder\n",
      "1397      adult\n",
      "1401       wide\n",
      "1411      forth\n",
      "1414      defin\n",
      "1420        owe\n",
      "1433     arrest\n",
      "1450     lawyer\n",
      "1451         oh\n",
      "1455  territori\n",
      "1471    aggress\n",
      "1479     aspect\n",
      "1483     launch\n",
      "1486     compar\n",
      "1490  consensus\n",
      "1495    testifi\n",
      "1496     gotten\n",
      "1497     enrich\n",
      "1499        lie\n",
      "\n",
      "[377 rows x 1 columns]\n"
     ]
    }
   ],
   "source": [
    "print(\"HC score = {}\".format(hc))\n",
    "\n",
    "print(\"List of distinguishing words:\")\n",
    "# Which words cause the difference?\n",
    "print(list_of_words.reindex(features))\n",
    "#print list_of_words"
   ]
  },
  {
   "cell_type": "code",
   "execution_count": null,
   "metadata": {
    "collapsed": true
   },
   "outputs": [],
   "source": []
  }
 ],
 "metadata": {
  "kernelspec": {
   "display_name": "Python 2",
   "language": "python",
   "name": "python2"
  },
  "language_info": {
   "codemirror_mode": {
    "name": "ipython",
    "version": 2
   },
   "file_extension": ".py",
   "mimetype": "text/x-python",
   "name": "python",
   "nbconvert_exporter": "python",
   "pygments_lexer": "ipython2",
   "version": "2.7.14"
  }
 },
 "nbformat": 4,
 "nbformat_minor": 2
}
