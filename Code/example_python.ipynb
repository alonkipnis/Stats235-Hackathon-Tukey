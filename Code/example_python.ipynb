{
 "cells": [
  {
   "cell_type": "markdown",
   "metadata": {},
   "source": [
    "# Changes in appearances of words in speeches between parties and congresses"
   ]
  },
  {
   "cell_type": "markdown",
   "metadata": {},
   "source": [
    "In this example we detect changes between two corpus of speeches taken from congressional records. This example shows you how to:\n",
    "\n",
    "- Load, arrange, and clean the data\n",
    "- Compute p-values\n",
    "- Use HC to detect changes"
   ]
  },
  {
   "cell_type": "code",
   "execution_count": 1,
   "metadata": {},
   "outputs": [
    {
     "name": "stdout",
     "output_type": "stream",
     "text": [
      "[nltk_data] Downloading package punkt to\n",
      "[nltk_data]     /Users/rafflesintown/nltk_data...\n",
      "[nltk_data]   Package punkt is already up-to-date!\n"
     ]
    }
   ],
   "source": [
    "# Load speech data\n",
    "import pandas as pd\n",
    "import two_unit_test\n",
    "import nltk\n",
    "nltk.download('punkt')\n",
    "raw_corpus = pd.read_csv(\"../Data/speech_w_data_example.csv\", encoding = 'latin1')\n",
    "headers = list(raw_corpus)\n",
    "# print(headers)"
   ]
  },
  {
   "cell_type": "code",
   "execution_count": 2,
   "metadata": {
    "collapsed": true
   },
   "outputs": [],
   "source": [
    "# Select two units from raw corpus for comparison\n",
    "unit1 = raw_corpus.loc[(raw_corpus.party == 'R') & (raw_corpus.chamber == 'H') & (raw_corpus.congress_id == 114), ['speech_id', 'speech']]\n",
    "unit2 = raw_corpus.loc[(raw_corpus.party == 'D') & (raw_corpus.chamber == 'H') & (raw_corpus.congress_id == 114), ['speech_id', 'speech']]\n",
    "# print(list(unit1))"
   ]
  },
  {
   "cell_type": "code",
   "execution_count": 14,
   "metadata": {},
   "outputs": [],
   "source": [
    "list_of_words = pd.read_csv(\"../Data/list_of_1500words.csv\", encoding = 'latin1', names = ['i','word']).iloc[:,1:2]"
   ]
  },
  {
   "cell_type": "code",
   "execution_count": 5,
   "metadata": {},
   "outputs": [
    {
     "name": "stdout",
     "output_type": "stream",
     "text": [
      "time taken: 29.38 seconds\n"
     ]
    }
   ],
   "source": [
    "import time\n",
    "start = time.time()\n",
    "hc, features = two_unit_test.two_unit_test(unit1,unit2, list_of_words=list_of_words['word'][1:])\n",
    "print('time taken: %.2f seconds'% (time.time() - start))"
   ]
  },
  {
   "cell_type": "code",
   "execution_count": 16,
   "metadata": {},
   "outputs": [
    {
     "name": "stdout",
     "output_type": "stream",
     "text": [
      "HC score = 25.6198203515\n",
      "List of distinguishing words:\n",
      "                0\n",
      "0          patent\n",
      "9              mr\n",
      "11        speaker\n",
      "16           fund\n",
      "19            law\n",
      "20            act\n",
      "21           vote\n",
      "23           just\n",
      "28       congress\n",
      "32         health\n",
      "33     republican\n",
      "35          think\n",
      "40          today\n",
      "49           iran\n",
      "51         budget\n",
      "53       chairman\n",
      "56           come\n",
      "65           said\n",
      "67        million\n",
      "75          women\n",
      "82          world\n",
      "83         public\n",
      "84          water\n",
      "96           deal\n",
      "98        student\n",
      "99       children\n",
      "102         floor\n",
      "104         trade\n",
      "107          look\n",
      "132       nuclear\n",
      "...           ...\n",
      "984         virus\n",
      "996      partisan\n",
      "1013  afghanistan\n",
      "1028       caucus\n",
      "1044          san\n",
      "1061       russia\n",
      "1097        islam\n",
      "1123          dhs\n",
      "1138    louisiana\n",
      "1146         mass\n",
      "1151        flint\n",
      "1184         page\n",
      "1191      minimum\n",
      "1202      chicago\n",
      "1228          red\n",
      "1247      russian\n",
      "1276          gap\n",
      "1298     shutdown\n",
      "1302      clinton\n",
      "1311          lee\n",
      "1312  connecticut\n",
      "1337    christian\n",
      "1358      houston\n",
      "1371          guy\n",
      "1401        voter\n",
      "1411        media\n",
      "1471       scalia\n",
      "1486     religion\n",
      "1497            n\n",
      "1499       muslim\n",
      "\n",
      "[143 rows x 1 columns]\n"
     ]
    }
   ],
   "source": [
    "print(\"HC score = {}\".format(hc))\n",
    "\n",
    "print(\"List of distinguishing words:\")\n",
    "# Which words cause the difference?\n",
    "\n",
    "df = pd.DataFrame([word for (idx,word) in enumerate(list(list_of_words['word'][1:])) if idx in features], \n",
    "                  index = features)\n",
    "print df\n",
    "\n"
   ]
  }
 ],
 "metadata": {
  "kernelspec": {
   "display_name": "Python 2",
   "language": "python",
   "name": "python2"
  },
  "language_info": {
   "codemirror_mode": {
    "name": "ipython",
    "version": 2
   },
   "file_extension": ".py",
   "mimetype": "text/x-python",
   "name": "python",
   "nbconvert_exporter": "python",
   "pygments_lexer": "ipython2",
   "version": "2.7.14"
  }
 },
 "nbformat": 4,
 "nbformat_minor": 2
}
