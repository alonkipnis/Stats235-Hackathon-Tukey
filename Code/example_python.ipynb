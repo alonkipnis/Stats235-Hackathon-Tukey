{
 "cells": [
  {
   "cell_type": "markdown",
   "metadata": {},
   "source": [
    "# Changes in appearances of words in speeches between parties and congresses"
   ]
  },
  {
   "cell_type": "markdown",
   "metadata": {},
   "source": [
    "In this example we detect changes between two corpus of speeches taken from congressional records. This example shows you how to:\n",
    "\n",
    "- Load, arrange, and clean the data\n",
    "- Compute p-values\n",
    "- Use HC to detect changes"
   ]
  },
  {
   "cell_type": "code",
   "execution_count": 1,
   "metadata": {},
   "outputs": [],
   "source": [
    "# Load speech data\n",
    "import pandas as pd\n",
    "raw_corpus = pd.read_csv(\"../Data/speech_w_data_example.csv\", encoding = 'latin1')\n",
    "headers = list(raw_corpus)\n",
    "# print(headers)"
   ]
  },
  {
   "cell_type": "code",
   "execution_count": 2,
   "metadata": {},
   "outputs": [],
   "source": [
    "# Select two units from raw corpus for comparison\n",
    "unit1 = raw_corpus.loc[(raw_corpus.party == 'R') & (raw_corpus.chamber == 'H') & (raw_corpus.congress_id == 114), ['speech_id', 'speech']]\n",
    "unit2 = raw_corpus.loc[(raw_corpus.party == 'D') & (raw_corpus.chamber == 'H') & (raw_corpus.congress_id == 114), ['speech_id', 'speech']]\n",
    "# print(list(unit1))"
   ]
  },
  {
   "cell_type": "code",
   "execution_count": 3,
   "metadata": {},
   "outputs": [],
   "source": [
    "# List of words to ignore\n",
    "words_to_ignore = ['mr', 'unit','unanim', 'don', 'ask', 'presid','madam', 'american', 'make', 'nation',\n",
    "               'let','last', 'urg', 'year', 'new', 'didn', 'dosen', 'bil', 'print', 'speaker', 'men',\n",
    "                'side', 'yield', 'rank', 'rise', 'small', 'yet', 'yesterday', 'move', 'york', 'long', \n",
    "               'yes', 'xii', 'go', 'billion', 'republican', 'democrat', 'congress', 'iv','iiv', 'doesnt', 'cant',\n",
    "                   'cannot', 'pelosi','weve','im','theyr', 'didnt', 'he', 'you', 'senat', 'hous', 'she',\n",
    "                   'dont', 'got']\n",
    "\n",
    "# Other lists:\n",
    "import word_lists\n",
    "ignore_list = words_to_ignore + word_lists.singletons + word_lists.additional_words1 + word_lists.additional_words2 + word_lists.function_words\n",
    "# print(ignore_list)"
   ]
  },
  {
   "cell_type": "code",
   "execution_count": 5,
   "metadata": {},
   "outputs": [
    {
     "name": "stdout",
     "output_type": "stream",
     "text": [
      "2.0\n"
     ]
    }
   ],
   "source": [
    "# Test differences between two test unit\n",
    "import helper_tests as tests # File containing test routine\n",
    "HC = tests.two_unit_test(unit1, unit2, ignore_list)\n",
    "# print(HC)\n",
    "max_zz = max(HC['zz'])\n",
    "print(max_zz)\n",
    "# XXXXXX suggest high difference in words used in speeches by each party"
   ]
  },
  {
   "cell_type": "code",
   "execution_count": 5,
   "metadata": {},
   "outputs": [
    {
     "name": "stdout",
     "output_type": "stream",
     "text": [
      "      word    pp\n",
      "2      exp  0.01\n",
      "0  massive  0.10\n",
      "1     comp  0.40\n"
     ]
    },
    {
     "data": {
      "text/plain": [
       "<Figure size 640x480 with 1 Axes>"
      ]
     },
     "metadata": {},
     "output_type": "display_data"
    }
   ],
   "source": [
    "# Which words cause the difference?\n",
    "import matplotlib.pyplot as plt\n",
    "data = HC.loc[:, ['word', 'pp']].sort_values(by=['pp'])\n",
    "print(data)\n",
    "x_pos = range(1,data['pp'].size+1)\n",
    "fig, ax = plt.subplots()\n",
    "fig1 = plt.barh(x_pos, data['pp'])\n",
    "plt.yticks(x_pos, data['word'])\n",
    "plt.ylabel('word')\n",
    "plt.xlabel('p value')\n",
    "plt.title('words associated with lowest p-vals')\n",
    "plt.show()"
   ]
  },
  {
   "cell_type": "code",
   "execution_count": 6,
   "metadata": {},
   "outputs": [
    {
     "name": "stdout",
     "output_type": "stream",
     "text": [
      "2 2.0\n"
     ]
    }
   ],
   "source": [
    "max_star = HC.loc[HC['zz'] == max_zz].index[0]\n",
    "hc_star = HC['zz'][max_star]\n",
    "uu = HC['uu']\n",
    "zz = HC['zz']\n",
    "print(max_star, hc_star)"
   ]
  },
  {
   "cell_type": "code",
   "execution_count": 9,
   "metadata": {},
   "outputs": [
    {
     "data": {
      "image/png": "[encoded data removed]",
      "text/plain": [
       "<Figure size 432x288 with 1 Axes>"
      ]
     },
     "metadata": {
      "needs_background": "light"
     },
     "output_type": "display_data"
    }
   ],
   "source": [
    "# Show z scores of p-values used for HC\n",
    "fig, ax = plt.subplots()\n",
    "fig2 = plt.plot(uu, zz, 'bo')\n",
    "plt.axvline(x = max_star/uu.shape[0], color = 'blue')\n",
    "plt.xlabel('uu')\n",
    "plt.ylabel('zz')\n",
    "plt.title('Z scores (p-vals)')\n",
    "plt.show()"
   ]
  },
  {
   "cell_type": "code",
   "execution_count": null,
   "metadata": {},
   "outputs": [],
   "source": []
  }
 ],
 "metadata": {
  "kernelspec": {
   "display_name": "Python 3",
   "language": "python",
   "name": "python3"
  },
  "language_info": {
   "codemirror_mode": {
    "name": "ipython",
    "version": 3
   },
   "file_extension": ".py",
   "mimetype": "text/x-python",
   "name": "python",
   "nbconvert_exporter": "python",
   "pygments_lexer": "ipython3",
   "version": "3.6.5"
  }
 },
 "nbformat": 4,
 "nbformat_minor": 2
}
